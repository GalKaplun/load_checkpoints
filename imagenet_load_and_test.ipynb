{
 "cells": [
  {
   "cell_type": "code",
   "execution_count": 1,
   "metadata": {},
   "outputs": [],
   "source": [
    "%reload_ext autoreload\n",
    "%autoreload 2\n",
    "import torch \n",
    "import sys; sys.path.append('../')\n",
    "from src.data_utils import get_imagenet\n",
    "from src.model_utils import load_resnet50_from_checkpoint\n",
    "from tqdm import tqdm\n",
    "import os\n",
    "import numpy as np\n",
    "\n",
    "CHECKPOINT_DIR = 'checkpoints/resnet50'\n",
    "# Read the file confs/steps.txt into STEPS.\n",
    "with open('confs/steps.txt') as f:\n",
    "    STEPS = [int(line.strip()) for line in f.readlines()]"
   ]
  },
  {
   "cell_type": "code",
   "execution_count": 2,
   "metadata": {},
   "outputs": [],
   "source": [
    "def get_model_at_step(step):\n",
    "    \"\"\"\n",
    "    Get the model at a certain step.\n",
    "    \"\"\"\n",
    "    model_path = os.path.join(CHECKPOINT_DIR, f'imagenet-step={step}.ckpt')\n",
    "    return load_resnet50_from_checkpoint(model_path)\n",
    "\n",
    "initial_model = get_model_at_step(STEPS[0])\n",
    "final_model = get_model_at_step(STEPS[-1])\n"
   ]
  },
  {
   "cell_type": "code",
   "execution_count": 3,
   "metadata": {},
   "outputs": [],
   "source": [
    "model = load_resnet50_from_checkpoint('checkpoints/resnet50/imagenet-step=450359.ckpt')\n",
    "model.cuda()"
   ]
  },
  {
   "cell_type": "code",
   "execution_count": 25,
   "metadata": {},
   "outputs": [],
   "source": [
    "imagenet_data = get_imagenet(imagenet_path='/data/', train=False, no_transform=False)"
   ]
  },
  {
   "cell_type": "code",
   "execution_count": 26,
   "metadata": {},
   "outputs": [],
   "source": [
    "loader = torch.utils.data.DataLoader(imagenet_data,\n",
    "                          batch_size=2048,\n",
    "                          shuffle=False,\n",
    "                          num_workers=4,\n",
    "                          pin_memory=True,\n",
    "                          prefetch_factor=2)"
   ]
  },
  {
   "cell_type": "code",
   "execution_count": 28,
   "metadata": {},
   "outputs": [
    {
     "name": "stderr",
     "output_type": "stream",
     "text": [
      "100%|██████████| 25/25 [01:06<00:00,  2.67s/it]\n"
     ]
    },
    {
     "data": {
      "text/plain": [
       "0.75722"
      ]
     },
     "execution_count": 28,
     "metadata": {},
     "output_type": "execute_result"
    }
   ],
   "source": [
    "from tqdm import tqdm\n",
    "def evaluate_model(model, data_loader, cuda=torch.cuda.is_available()):\n",
    "    \"\"\"\n",
    "    Evaluate a model on a dataset.\n",
    "    \n",
    "    Args:\n",
    "        model: The model to evaluate.\n",
    "        data_loader: The dataset.\n",
    "    \n",
    "    Returns:\n",
    "        The accuracy of the model.\n",
    "    \"\"\"\n",
    "    if cuda:\n",
    "        model.cuda()\n",
    "    model.eval()\n",
    "    correct = 0\n",
    "    total = 0\n",
    "    with torch.no_grad():\n",
    "        for data, target in tqdm(data_loader):\n",
    "            if cuda:\n",
    "                data, target = data.cuda(), target.cuda()\n",
    "            pred = model(data).argmax(dim=1)\n",
    "            correct += pred.eq(target.data.view_as(pred)).sum().item()\n",
    "            total += len(data)\n",
    "    return correct / total\n",
    "\n",
    "evaluate_model(model, loader)"
   ]
  },
  {
   "cell_type": "code",
   "execution_count": null,
   "metadata": {},
   "outputs": [],
   "source": []
  }
 ],
 "metadata": {
  "kernelspec": {
   "display_name": "Python 3.6.9 64-bit",
   "language": "python",
   "name": "python3"
  },
  "language_info": {
   "codemirror_mode": {
    "name": "ipython",
    "version": 3
   },
   "file_extension": ".py",
   "mimetype": "text/x-python",
   "name": "python",
   "nbconvert_exporter": "python",
   "pygments_lexer": "ipython3",
   "version": "3.9.13"
  },
  "orig_nbformat": 4,
  "vscode": {
   "interpreter": {
    "hash": "31f2aee4e71d21fbe5cf8b01ff0e069b9275f58929596ceb00d14d90e3e16cd6"
   }
  }
 },
 "nbformat": 4,
 "nbformat_minor": 2
}
